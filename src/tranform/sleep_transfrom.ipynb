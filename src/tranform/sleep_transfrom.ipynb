{
 "cells": [
  {
   "cell_type": "code",
   "execution_count": 26,
   "metadata": {},
   "outputs": [],
   "source": [
    "import pandas as pd\n",
    "import datetime\n",
    "\n",
    "sleep = pd.read_csv('../../data/star_schema/sleep_info.csv')\n",
    "time = pd.read_csv('../../data/star_schema/time_info.csv')\n",
    "\n",
    "sleep_time = pd.merge(sleep, time, how=\"left\", on=[' Measure Date Time'])\n",
    "\n",
    "def dt(x):\n",
    "  tail = x.tail(1)[' Measure Date Time'].values[0]\n",
    "  head = x.head(1)[' Measure Date Time'].values[0]\n",
    "  \n",
    "  div = datetime.datetime.strptime( tail, ' %Y-%m-%dT%H:%M:%S') - datetime.datetime.strptime( head, ' %Y-%m-%dT%H:%M:%S')\n",
    "  seconds = div.days * 24 * 3600 + div.seconds \n",
    "  minutes, seconds = divmod(seconds, 60)\n",
    "  hours, minutes = divmod(minutes, 60)\n",
    "  days, hours = divmod(hours, 24)\n",
    "  return hours + minutes/60\n",
    "\n",
    "real_sleep = sleep_time['Sleep Questionnaire results']==\"Sleeping \"\n",
    "sleep_div = sleep_time[['SubjectID', 'year', 'month', 'day', ' Measure Date Time']][real_sleep].groupby(['SubjectID', 'year', 'month', 'day']).apply(dt)"
   ]
  },
  {
   "cell_type": "code",
   "execution_count": 31,
   "metadata": {},
   "outputs": [],
   "source": [
    "df = pd.read_csv('../../data/star_schema/sleep_div.csv')"
   ]
  },
  {
   "cell_type": "code",
   "execution_count": 33,
   "metadata": {},
   "outputs": [],
   "source": [
    "df = df.rename(columns={df.columns[4]: 'sleepHour'})\n",
    "df.to_csv('../../data/star_schema/sleep_div.csv')"
   ]
  },
  {
   "cell_type": "code",
   "execution_count": null,
   "metadata": {},
   "outputs": [],
   "source": []
  }
 ],
 "metadata": {
  "kernelspec": {
   "display_name": "Python 3.10.7 64-bit",
   "language": "python",
   "name": "python3"
  },
  "language_info": {
   "codemirror_mode": {
    "name": "ipython",
    "version": 3
   },
   "file_extension": ".py",
   "mimetype": "text/x-python",
   "name": "python",
   "nbconvert_exporter": "python",
   "pygments_lexer": "ipython3",
   "version": "3.10.7"
  },
  "orig_nbformat": 4,
  "vscode": {
   "interpreter": {
    "hash": "df95319d8ce4e1d89f5365ae10992bc1f65da593082b1d264e8f529830ec2f02"
   }
  }
 },
 "nbformat": 4,
 "nbformat_minor": 2
}
