{
 "cells": [
  {
   "cell_type": "code",
   "execution_count": 8,
   "metadata": {},
   "outputs": [],
   "source": [
    "import math\n",
    "import numpy as np\n",
    "import pandas as pd \n",
    "from sklearn.preprocessing import StandardScaler\n",
    "from sklearn.metrics import confusion_matrix,classification_report\n",
    "import matplotlib.pyplot as plt\n",
    "import plotly.express as px\n",
    "import joblib"
   ]
  },
  {
   "cell_type": "code",
   "execution_count": 9,
   "metadata": {},
   "outputs": [],
   "source": [
    "def dashboard(input):\n",
    "    file = pd.read_csv(input)\n",
    "    file[' Measure Date Time'] = pd.to_datetime(file[' Measure Date Time'], format = \"%Y-%m-%d %H:%M:%S\")\n",
    "    \n",
    "    test = file.drop(['Unnamed: 0','High blood pressure_Yes','High blood pressure_Nothing','Other_Montelukast, Lervea 200 Ellipta 30 for inhalation'], axis=1)\n",
    "    scaler = StandardScaler()\n",
    "    scaler.fit(test[test.columns[2:14]])\n",
    "    test[test.columns[2:14]] = scaler.transform(test[test.columns[2:14]])\n",
    "    data_scaled_means1 = test.drop([' Measure Date Time'], axis = 1).groupby('SubjectID').mean()\n",
    "    loaded_model = joblib.load('model.sav')\n",
    "    testpred = loaded_model.predict(data_scaled_means1)\n",
    "\n",
    "    # display\n",
    "    id = list(dict.fromkeys(file['SubjectID']))\n",
    "    print('ID : ', id[0])\n",
    "    gender = list(dict.fromkeys(file['Gender_Female']))\n",
    "\n",
    "    if gender[0] == 1:\n",
    "        print('Gender : Female')\n",
    "    else:\n",
    "        print('Gender : Man')\n",
    "\n",
    "    age = list(dict.fromkeys(file['Age']))\n",
    "    print('Age : ', age[0])\n",
    "    height = file['Height'].mean()\n",
    "    print('Height : ', height)\n",
    "    weight = file['Body weight'].mean()\n",
    "    print('Weight : ', weight)\n",
    "    bmi = file[' BMI'].mean()\n",
    "    print('BMI : ', bmi)\n",
    "    sys = file[' Systolic Pressure'].mean()\n",
    "    print('Systolic BP :', sys)\n",
    "    dia = file[' Diastolic Pressure'].mean()\n",
    "    print('Diastolic BP :', dia)\n",
    "    Map = file[' Mean Arterial Pressure'].mean()\n",
    "    print('Mean Arterial Pressure :', Map)\n",
    "    print('---------------------------------------------')\n",
    "    if testpred == 1:\n",
    "        print('Blood pressure result : High blood pressure')\n",
    "    else:\n",
    "        print('Blood pressure result : Normal blood pressure')\n",
    "\n",
    "    \n",
    "\n",
    "    exer_agg = list(dict.fromkeys(file['Exercise guidance_Aggressive exercise']))\n",
    "    if exer_agg[0] == 1:\n",
    "        print('Exercise guidance : Aggressive exercise')\n",
    "    else:\n",
    "        pass\n",
    "\n",
    "    exer_mil = list(dict.fromkeys(file['Exercise guidance_Mild exercise']))\n",
    "    if exer_mil[0] == 1:\n",
    "        print('Exercise guidance : Mild exercise')\n",
    "    else:\n",
    "        pass\n",
    "\n",
    "    exer_not = list(dict.fromkeys(file['Exercise guidance_Nothing']))\n",
    "    if exer_not[0] == 1:\n",
    "        print('Exercise guidance : Nothing')\n",
    "    else:\n",
    "        pass\n",
    "    \n",
    "    Nutrition_guidance = list(dict.fromkeys(file['Nutrition guidance_Nothing']))\n",
    "    if Nutrition_guidance[0] == 1:\n",
    "        print('Nutrition guidance : Nothing')\n",
    "    else:\n",
    "        print('Nutrition guidance : Nutrition guidance Nutritional guidance for improving eating habits')\n",
    "\n",
    "    Life_guidance_enhance = list(dict.fromkeys(file['Life guidance_Guidance to enhance visuospatial cognitive function']))\n",
    "    if Life_guidance_enhance[0] == 1:\n",
    "        print('Life guidance : Life guidance Guidance to enhance visuospatial cognitive function')\n",
    "    else:\n",
    "        pass\n",
    "    Life_guidance_increase = list(dict.fromkeys(file['Life guidance_Guidance to increase physical activity']))\n",
    "    if Life_guidance_increase[0] == 1:\n",
    "        print('Life guidance : Life guidance Guidance to increase physical activity')\n",
    "    else:\n",
    "        pass\n",
    "    Life_guidance_nothing = list(dict.fromkeys(file['Life guidance_Nothing']))\n",
    "    if Life_guidance_nothing[0] == 1:\n",
    "        print('Life guidance : Nothing')\n",
    "    else:\n",
    "        pass\n",
    "    \n",
    "    date = file[' Measure Date Time']\n",
    "    systolic = file[' Systolic Pressure']\n",
    "    diastolic = file[' Diastolic Pressure']\n",
    "    map = file[' Mean Arterial Pressure']\n",
    "    pulse = file[' Pulse Rate']\n",
    "    #plot pressure\n",
    "    fig,ax = plt.subplots(2,1, figsize=(10, 10))\n",
    "    ax[0].plot(date, systolic)\n",
    "    ax[0].plot(date, diastolic)\n",
    "    ax[0].plot(date, map)\n",
    "    ax[0].legend(['Systolic Pressure', 'Diastolic Pressure', 'Mean Arterial Pressure'])\n",
    "    ax[0].set(title='Blood Pressure By DateTime',xlabel='Date',ylabel='Pressure')\n",
    "\n",
    "    #plot pulse rate\n",
    "    ax[1].plot(date, pulse)\n",
    "    ax[1].set(title='Pulse Rate By DateTime',xlabel='Date',ylabel='Pulse Rate')\n",
    "    plt.show()\n"
   ]
  },
  {
   "cell_type": "code",
   "execution_count": 10,
   "metadata": {},
   "outputs": [
    {
     "name": "stderr",
     "output_type": "stream",
     "text": [
      "c:\\Users\\USER\\AppData\\Local\\Programs\\Python\\Python310\\lib\\site-packages\\sklearn\\base.py:443: UserWarning: X has feature names, but LogisticRegression was fitted without feature names\n",
      "  warnings.warn(\n"
     ]
    },
    {
     "ename": "ValueError",
     "evalue": "X has 49 features, but LogisticRegression is expecting 50 features as input.",
     "output_type": "error",
     "traceback": [
      "\u001b[1;31m---------------------------------------------------------------------------\u001b[0m",
      "\u001b[1;31mValueError\u001b[0m                                Traceback (most recent call last)",
      "Cell \u001b[1;32mIn [10], line 1\u001b[0m\n\u001b[1;32m----> 1\u001b[0m dashboard(\u001b[39m'\u001b[39;49m\u001b[39mdatatest1.csv\u001b[39;49m\u001b[39m'\u001b[39;49m)\n",
      "Cell \u001b[1;32mIn [9], line 11\u001b[0m, in \u001b[0;36mdashboard\u001b[1;34m(input)\u001b[0m\n\u001b[0;32m      9\u001b[0m data_scaled_means1 \u001b[39m=\u001b[39m test\u001b[39m.\u001b[39mdrop([\u001b[39m'\u001b[39m\u001b[39m Measure Date Time\u001b[39m\u001b[39m'\u001b[39m], axis \u001b[39m=\u001b[39m \u001b[39m1\u001b[39m)\u001b[39m.\u001b[39mgroupby(\u001b[39m'\u001b[39m\u001b[39mSubjectID\u001b[39m\u001b[39m'\u001b[39m)\u001b[39m.\u001b[39mmean()\n\u001b[0;32m     10\u001b[0m loaded_model \u001b[39m=\u001b[39m joblib\u001b[39m.\u001b[39mload(\u001b[39m'\u001b[39m\u001b[39mmodel.sav\u001b[39m\u001b[39m'\u001b[39m)\n\u001b[1;32m---> 11\u001b[0m testpred \u001b[39m=\u001b[39m loaded_model\u001b[39m.\u001b[39;49mpredict(data_scaled_means1)\n\u001b[0;32m     13\u001b[0m \u001b[39m# display\u001b[39;00m\n\u001b[0;32m     14\u001b[0m \u001b[39mid\u001b[39m \u001b[39m=\u001b[39m \u001b[39mlist\u001b[39m(\u001b[39mdict\u001b[39m\u001b[39m.\u001b[39mfromkeys(file[\u001b[39m'\u001b[39m\u001b[39mSubjectID\u001b[39m\u001b[39m'\u001b[39m]))\n",
      "File \u001b[1;32mc:\\Users\\USER\\AppData\\Local\\Programs\\Python\\Python310\\lib\\site-packages\\sklearn\\linear_model\\_base.py:447\u001b[0m, in \u001b[0;36mLinearClassifierMixin.predict\u001b[1;34m(self, X)\u001b[0m\n\u001b[0;32m    433\u001b[0m \u001b[39mdef\u001b[39;00m \u001b[39mpredict\u001b[39m(\u001b[39mself\u001b[39m, X):\n\u001b[0;32m    434\u001b[0m     \u001b[39m\"\"\"\u001b[39;00m\n\u001b[0;32m    435\u001b[0m \u001b[39m    Predict class labels for samples in X.\u001b[39;00m\n\u001b[0;32m    436\u001b[0m \n\u001b[1;32m   (...)\u001b[0m\n\u001b[0;32m    445\u001b[0m \u001b[39m        Vector containing the class labels for each sample.\u001b[39;00m\n\u001b[0;32m    446\u001b[0m \u001b[39m    \"\"\"\u001b[39;00m\n\u001b[1;32m--> 447\u001b[0m     scores \u001b[39m=\u001b[39m \u001b[39mself\u001b[39;49m\u001b[39m.\u001b[39;49mdecision_function(X)\n\u001b[0;32m    448\u001b[0m     \u001b[39mif\u001b[39;00m \u001b[39mlen\u001b[39m(scores\u001b[39m.\u001b[39mshape) \u001b[39m==\u001b[39m \u001b[39m1\u001b[39m:\n\u001b[0;32m    449\u001b[0m         indices \u001b[39m=\u001b[39m (scores \u001b[39m>\u001b[39m \u001b[39m0\u001b[39m)\u001b[39m.\u001b[39mastype(\u001b[39mint\u001b[39m)\n",
      "File \u001b[1;32mc:\\Users\\USER\\AppData\\Local\\Programs\\Python\\Python310\\lib\\site-packages\\sklearn\\linear_model\\_base.py:429\u001b[0m, in \u001b[0;36mLinearClassifierMixin.decision_function\u001b[1;34m(self, X)\u001b[0m\n\u001b[0;32m    409\u001b[0m \u001b[39m\"\"\"\u001b[39;00m\n\u001b[0;32m    410\u001b[0m \u001b[39mPredict confidence scores for samples.\u001b[39;00m\n\u001b[0;32m    411\u001b[0m \n\u001b[1;32m   (...)\u001b[0m\n\u001b[0;32m    425\u001b[0m \u001b[39m    this class would be predicted.\u001b[39;00m\n\u001b[0;32m    426\u001b[0m \u001b[39m\"\"\"\u001b[39;00m\n\u001b[0;32m    427\u001b[0m check_is_fitted(\u001b[39mself\u001b[39m)\n\u001b[1;32m--> 429\u001b[0m X \u001b[39m=\u001b[39m \u001b[39mself\u001b[39;49m\u001b[39m.\u001b[39;49m_validate_data(X, accept_sparse\u001b[39m=\u001b[39;49m\u001b[39m\"\u001b[39;49m\u001b[39mcsr\u001b[39;49m\u001b[39m\"\u001b[39;49m, reset\u001b[39m=\u001b[39;49m\u001b[39mFalse\u001b[39;49;00m)\n\u001b[0;32m    430\u001b[0m scores \u001b[39m=\u001b[39m safe_sparse_dot(X, \u001b[39mself\u001b[39m\u001b[39m.\u001b[39mcoef_\u001b[39m.\u001b[39mT, dense_output\u001b[39m=\u001b[39m\u001b[39mTrue\u001b[39;00m) \u001b[39m+\u001b[39m \u001b[39mself\u001b[39m\u001b[39m.\u001b[39mintercept_\n\u001b[0;32m    431\u001b[0m \u001b[39mreturn\u001b[39;00m scores\u001b[39m.\u001b[39mravel() \u001b[39mif\u001b[39;00m scores\u001b[39m.\u001b[39mshape[\u001b[39m1\u001b[39m] \u001b[39m==\u001b[39m \u001b[39m1\u001b[39m \u001b[39melse\u001b[39;00m scores\n",
      "File \u001b[1;32mc:\\Users\\USER\\AppData\\Local\\Programs\\Python\\Python310\\lib\\site-packages\\sklearn\\base.py:600\u001b[0m, in \u001b[0;36mBaseEstimator._validate_data\u001b[1;34m(self, X, y, reset, validate_separately, **check_params)\u001b[0m\n\u001b[0;32m    597\u001b[0m     out \u001b[39m=\u001b[39m X, y\n\u001b[0;32m    599\u001b[0m \u001b[39mif\u001b[39;00m \u001b[39mnot\u001b[39;00m no_val_X \u001b[39mand\u001b[39;00m check_params\u001b[39m.\u001b[39mget(\u001b[39m\"\u001b[39m\u001b[39mensure_2d\u001b[39m\u001b[39m\"\u001b[39m, \u001b[39mTrue\u001b[39;00m):\n\u001b[1;32m--> 600\u001b[0m     \u001b[39mself\u001b[39;49m\u001b[39m.\u001b[39;49m_check_n_features(X, reset\u001b[39m=\u001b[39;49mreset)\n\u001b[0;32m    602\u001b[0m \u001b[39mreturn\u001b[39;00m out\n",
      "File \u001b[1;32mc:\\Users\\USER\\AppData\\Local\\Programs\\Python\\Python310\\lib\\site-packages\\sklearn\\base.py:400\u001b[0m, in \u001b[0;36mBaseEstimator._check_n_features\u001b[1;34m(self, X, reset)\u001b[0m\n\u001b[0;32m    397\u001b[0m     \u001b[39mreturn\u001b[39;00m\n\u001b[0;32m    399\u001b[0m \u001b[39mif\u001b[39;00m n_features \u001b[39m!=\u001b[39m \u001b[39mself\u001b[39m\u001b[39m.\u001b[39mn_features_in_:\n\u001b[1;32m--> 400\u001b[0m     \u001b[39mraise\u001b[39;00m \u001b[39mValueError\u001b[39;00m(\n\u001b[0;32m    401\u001b[0m         \u001b[39mf\u001b[39m\u001b[39m\"\u001b[39m\u001b[39mX has \u001b[39m\u001b[39m{\u001b[39;00mn_features\u001b[39m}\u001b[39;00m\u001b[39m features, but \u001b[39m\u001b[39m{\u001b[39;00m\u001b[39mself\u001b[39m\u001b[39m.\u001b[39m\u001b[39m__class__\u001b[39m\u001b[39m.\u001b[39m\u001b[39m__name__\u001b[39m\u001b[39m}\u001b[39;00m\u001b[39m \u001b[39m\u001b[39m\"\u001b[39m\n\u001b[0;32m    402\u001b[0m         \u001b[39mf\u001b[39m\u001b[39m\"\u001b[39m\u001b[39mis expecting \u001b[39m\u001b[39m{\u001b[39;00m\u001b[39mself\u001b[39m\u001b[39m.\u001b[39mn_features_in_\u001b[39m}\u001b[39;00m\u001b[39m features as input.\u001b[39m\u001b[39m\"\u001b[39m\n\u001b[0;32m    403\u001b[0m     )\n",
      "\u001b[1;31mValueError\u001b[0m: X has 49 features, but LogisticRegression is expecting 50 features as input."
     ]
    }
   ],
   "source": [
    "dashboard('datatest1.csv')"
   ]
  }
 ],
 "metadata": {
  "kernelspec": {
   "display_name": "Python 3",
   "language": "python",
   "name": "python3"
  },
  "language_info": {
   "codemirror_mode": {
    "name": "ipython",
    "version": 3
   },
   "file_extension": ".py",
   "mimetype": "text/x-python",
   "name": "python",
   "nbconvert_exporter": "python",
   "pygments_lexer": "ipython3",
   "version": "3.10.7 (tags/v3.10.7:6cc6b13, Sep  5 2022, 14:08:36) [MSC v.1933 64 bit (AMD64)]"
  },
  "orig_nbformat": 4,
  "vscode": {
   "interpreter": {
    "hash": "df95319d8ce4e1d89f5365ae10992bc1f65da593082b1d264e8f529830ec2f02"
   }
  }
 },
 "nbformat": 4,
 "nbformat_minor": 2
}
